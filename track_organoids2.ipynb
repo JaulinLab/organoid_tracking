{
 "cells": [
  {
   "cell_type": "code",
   "execution_count": 2,
   "metadata": {},
   "outputs": [],
   "source": [
    "import numpy as np\n",
    "import pandas as pd\n",
    "import glob\n",
    "from organoid_tracking import organoid_tracking\n",
    "import os\n",
    "from itertools import repeat\n",
    "from natsort import natsorted"
   ]
  },
  {
   "attachments": {},
   "cell_type": "markdown",
   "metadata": {},
   "source": [
    "## analyzing an image sequence\n",
    "\n",
    "we get the organoid properties sequentially and then link the individual organoids together using trackpy."
   ]
  },
  {
   "cell_type": "code",
   "execution_count": 4,
   "metadata": {},
   "outputs": [],
   "source": [
    "start_dir = '/Users/clemence/Documents_Clémence/Analysis/Tracking algorithm/Tracking-seg_Aaron-Gus_CNV/To run'\n",
    "\n",
    "pattern   = \"*/masks_predicted/*.tif\"\n",
    "fnames = []\n",
    "validation_directories = []\n",
    "\n",
    "for dir,_,_ in os.walk(start_dir):\n",
    "    fnames.extend(glob.glob(os.path.join(dir,pattern)))\n",
    "\n",
    "for fname in fnames:\n",
    "\n",
    "    experiment_directory = '/'.join(fname.split('/')[:-2])\n",
    "\n",
    "    validation_directory = experiment_directory + '/' + 'validation_image'\n",
    "    validation_directories.append(validation_directory)\n",
    "\n",
    "    if not os.path.exists(validation_directory):\n",
    "        os.makedirs(validation_directory)\n",
    "\n",
    "savedir = os.path.join(start_dir, 'organoid_statistics')\n",
    "\n",
    "if not os.path.exists(savedir):\n",
    "    os.makedirs(savedir)"
   ]
  },
  {
   "cell_type": "code",
   "execution_count": 5,
   "metadata": {},
   "outputs": [
    {
     "ename": "IndexError",
     "evalue": "index 0 is out of bounds for axis 0 with size 0",
     "output_type": "error",
     "traceback": [
      "\u001b[0;31m---------------------------------------------------------------------------\u001b[0m",
      "\u001b[0;31mIndexError\u001b[0m                                Traceback (most recent call last)",
      "\u001b[1;32m/Users/clemence/Documents_Clémence/Analysis/Code/organoid_tracking-230628/track_organoids2.ipynb Cell 4\u001b[0m in \u001b[0;36m4\n\u001b[1;32m      <a href='vscode-notebook-cell:/Users/clemence/Documents_Cl%C3%A9mence/Analysis/Code/organoid_tracking-230628/track_organoids2.ipynb#W3sZmlsZQ%3D%3D?line=0'>1</a>\u001b[0m movie_frames \u001b[39m=\u001b[39m \u001b[39mmap\u001b[39m(organoid_tracking\u001b[39m.\u001b[39mmovie_analysis, natsorted(fnames), validation_directories)\n\u001b[1;32m      <a href='vscode-notebook-cell:/Users/clemence/Documents_Cl%C3%A9mence/Analysis/Code/organoid_tracking-230628/track_organoids2.ipynb#W3sZmlsZQ%3D%3D?line=2'>3</a>\u001b[0m file_data \u001b[39m=\u001b[39m pd\u001b[39m.\u001b[39mDataFrame()\n\u001b[0;32m----> <a href='vscode-notebook-cell:/Users/clemence/Documents_Cl%C3%A9mence/Analysis/Code/organoid_tracking-230628/track_organoids2.ipynb#W3sZmlsZQ%3D%3D?line=3'>4</a>\u001b[0m file_data \u001b[39m=\u001b[39m pd\u001b[39m.\u001b[39mconcat(\u001b[39mlist\u001b[39;49m(movie_frames), \n\u001b[1;32m      <a href='vscode-notebook-cell:/Users/clemence/Documents_Cl%C3%A9mence/Analysis/Code/organoid_tracking-230628/track_organoids2.ipynb#W3sZmlsZQ%3D%3D?line=4'>5</a>\u001b[0m                       ignore_index\u001b[39m=\u001b[39m\u001b[39mTrue\u001b[39;00m)\n\u001b[1;32m      <a href='vscode-notebook-cell:/Users/clemence/Documents_Cl%C3%A9mence/Analysis/Code/organoid_tracking-230628/track_organoids2.ipynb#W3sZmlsZQ%3D%3D?line=5'>6</a>\u001b[0m file_data[\u001b[39m'\u001b[39m\u001b[39munique_organoid\u001b[39m\u001b[39m'\u001b[39m] \u001b[39m=\u001b[39m file_data[\u001b[39m'\u001b[39m\u001b[39mmovie_name\u001b[39m\u001b[39m'\u001b[39m]\u001b[39m+\u001b[39m \u001b[39m'\u001b[39m\u001b[39m:\u001b[39m\u001b[39m'\u001b[39m \u001b[39m+\u001b[39m file_data[\u001b[39m'\u001b[39m\u001b[39mparticle\u001b[39m\u001b[39m'\u001b[39m]\u001b[39m.\u001b[39mastype(\u001b[39mstr\u001b[39m) \n",
      "File \u001b[0;32m~/Documents_Clémence/Analysis/Code/organoid_tracking-230628/organoid_tracking/organoid_tracking.py:128\u001b[0m, in \u001b[0;36mmovie_analysis\u001b[0;34m(filename, output_directory)\u001b[0m\n\u001b[1;32m    125\u001b[0m \u001b[39m# check that dimensions are OK\u001b[39;00m\n\u001b[1;32m    126\u001b[0m \u001b[39massert\u001b[39;00m image_sequence\u001b[39m.\u001b[39mndim \u001b[39m==\u001b[39m \u001b[39m3\u001b[39m\n\u001b[0;32m--> 128\u001b[0m movie_frame \u001b[39m=\u001b[39m single_movie_trajs(image_sequence,\n\u001b[1;32m    129\u001b[0m                    search_range \u001b[39m=\u001b[39;49m \u001b[39m250\u001b[39;49m,\n\u001b[1;32m    130\u001b[0m                    memory \u001b[39m=\u001b[39;49m \u001b[39m10\u001b[39;49m)\n\u001b[1;32m    131\u001b[0m movie_frame \u001b[39m=\u001b[39m get_particle_props(movie_frame)\n\u001b[1;32m    132\u001b[0m movie_frame[\u001b[39m'\u001b[39m\u001b[39mmovie_name\u001b[39m\u001b[39m'\u001b[39m] \u001b[39m=\u001b[39m movie_name\n",
      "File \u001b[0;32m~/Documents_Clémence/Analysis/Code/organoid_tracking-230628/organoid_tracking/organoid_tracking.py:59\u001b[0m, in \u001b[0;36msingle_movie_trajs\u001b[0;34m(image_sequence, search_range, memory)\u001b[0m\n\u001b[1;32m     54\u001b[0m     properties[\u001b[39m'\u001b[39m\u001b[39mframe\u001b[39m\u001b[39m'\u001b[39m] \u001b[39m=\u001b[39m frame\n\u001b[1;32m     56\u001b[0m     organoid_data \u001b[39m=\u001b[39m pd\u001b[39m.\u001b[39mconcat([organoid_data, properties], \n\u001b[1;32m     57\u001b[0m                             ignore_index\u001b[39m=\u001b[39m\u001b[39mTrue\u001b[39;00m)\n\u001b[0;32m---> 59\u001b[0m organoid_data \u001b[39m=\u001b[39m tp\u001b[39m.\u001b[39;49mlink(organoid_data, search_range\u001b[39m=\u001b[39;49msearch_range, memory\u001b[39m=\u001b[39;49mmemory)\n\u001b[1;32m     61\u001b[0m \u001b[39m# loop through all particles, if a frame is missing insert an empty row\u001b[39;00m\n\u001b[1;32m     63\u001b[0m maxframe \u001b[39m=\u001b[39m organoid_data\u001b[39m.\u001b[39mframe\u001b[39m.\u001b[39mmax()\n",
      "File \u001b[0;32m/Library/Frameworks/Python.framework/Versions/3.10/lib/python3.10/site-packages/trackpy/linking/linking.py:192\u001b[0m, in \u001b[0;36mlink\u001b[0;34m(f, search_range, pos_columns, t_column, **kwargs)\u001b[0m\n\u001b[1;32m    190\u001b[0m coords_iter \u001b[39m=\u001b[39m coords_from_df(f, pos_columns, t_column)\n\u001b[1;32m    191\u001b[0m ids \u001b[39m=\u001b[39m []\n\u001b[0;32m--> 192\u001b[0m \u001b[39mfor\u001b[39;00m i, _ids \u001b[39min\u001b[39;00m link_iter(coords_iter, search_range, \u001b[39m*\u001b[39m\u001b[39m*\u001b[39mkwargs):\n\u001b[1;32m    193\u001b[0m     ids\u001b[39m.\u001b[39mextend(_ids)\n\u001b[1;32m    195\u001b[0m f[\u001b[39m'\u001b[39m\u001b[39mparticle\u001b[39m\u001b[39m'\u001b[39m] \u001b[39m=\u001b[39m ids\n",
      "File \u001b[0;32m/Library/Frameworks/Python.framework/Versions/3.10/lib/python3.10/site-packages/trackpy/linking/linking.py:88\u001b[0m, in \u001b[0;36mlink_iter\u001b[0;34m(coords_iter, search_range, **kwargs)\u001b[0m\n\u001b[1;32m     85\u001b[0m coords_iter \u001b[39m=\u001b[39m \u001b[39miter\u001b[39m(coords_iter)\n\u001b[1;32m     87\u001b[0m \u001b[39m# interpret the first element of the iterable\u001b[39;00m\n\u001b[0;32m---> 88\u001b[0m val \u001b[39m=\u001b[39m \u001b[39mnext\u001b[39;49m(coords_iter)\n\u001b[1;32m     89\u001b[0m \u001b[39mif\u001b[39;00m \u001b[39misinstance\u001b[39m(val, np\u001b[39m.\u001b[39mndarray):\n\u001b[1;32m     90\u001b[0m     \u001b[39m# the iterable was not enumerated, so enumerate the remainder\u001b[39;00m\n\u001b[1;32m     91\u001b[0m     coords_iter \u001b[39m=\u001b[39m \u001b[39menumerate\u001b[39m(coords_iter, start\u001b[39m=\u001b[39m\u001b[39m1\u001b[39m)\n",
      "File \u001b[0;32m/Library/Frameworks/Python.framework/Versions/3.10/lib/python3.10/site-packages/trackpy/linking/utils.py:53\u001b[0m, in \u001b[0;36mcoords_from_df\u001b[0;34m(df, pos_columns, t_column)\u001b[0m\n\u001b[1;32m     50\u001b[0m pos_by_frame \u001b[39m=\u001b[39m np\u001b[39m.\u001b[39msplit(pos, np\u001b[39m.\u001b[39mcumsum(time_counts)[:\u001b[39m-\u001b[39m\u001b[39m1\u001b[39m])\n\u001b[1;32m     52\u001b[0m idx \u001b[39m=\u001b[39m \u001b[39m0\u001b[39m\n\u001b[0;32m---> 53\u001b[0m \u001b[39mfor\u001b[39;00m time \u001b[39min\u001b[39;00m \u001b[39mrange\u001b[39m(unique_times[\u001b[39m0\u001b[39;49m], unique_times[\u001b[39m-\u001b[39m\u001b[39m1\u001b[39m] \u001b[39m+\u001b[39m \u001b[39m1\u001b[39m):\n\u001b[1;32m     54\u001b[0m     \u001b[39mif\u001b[39;00m time \u001b[39m==\u001b[39m unique_times[idx]:\n\u001b[1;32m     55\u001b[0m         \u001b[39myield\u001b[39;00m time, pos_by_frame[idx]\n",
      "\u001b[0;31mIndexError\u001b[0m: index 0 is out of bounds for axis 0 with size 0"
     ]
    }
   ],
   "source": [
    "\n",
    "movie_frames = map(organoid_tracking.movie_analysis, natsorted(fnames), validation_directories)\n",
    "\n",
    "file_data = pd.DataFrame()\n",
    "file_data = pd.concat(list(movie_frames), \n",
    "                      ignore_index=True)\n",
    "file_data['unique_organoid'] = file_data['movie_name']+ ':' + file_data['particle'].astype(str) "
   ]
  },
  {
   "attachments": {},
   "cell_type": "markdown",
   "metadata": {},
   "source": []
  },
  {
   "cell_type": "code",
   "execution_count": 36,
   "metadata": {},
   "outputs": [],
   "source": [
    "pxtomu = 0.9075\n",
    "frametohr = 0.5/24\n",
    "\n",
    "file_data['velocity'] *= pxtomu/frametohr\n",
    "file_data['area'] *= pxtomu**2\n",
    "file_data['perimeter'] *= pxtomu\n",
    "file_data['cumulative_displacement'] *= pxtomu\n",
    "file_data['absolute_displacement_x'] *= pxtomu\n",
    "file_data['circularity'] = 4*np.pi*(file_data['area']/file_data['perimeter']**2)"
   ]
  },
  {
   "cell_type": "code",
   "execution_count": 39,
   "metadata": {},
   "outputs": [],
   "source": [
    "def get_organoid_statistics(file_data):\n",
    "\n",
    "    organoid_statistics = pd.DataFrame(columns = ['movie_name', 'particle'])\n",
    "\n",
    "    for single_particle in file_data.unique_organoid.unique():\n",
    "\n",
    "        unique_organoid_frame = file_data[file_data.unique_organoid == single_particle].sort_values('frame')\n",
    "        \n",
    "        assert len(unique_organoid_frame.movie_name.unique()) == 1\n",
    "        assert len(unique_organoid_frame.particle.unique()) == 1\n",
    "\n",
    "        single_organoid_statistics = pd.DataFrame(columns = ['movie_name',\n",
    "                                                            'particle',\n",
    "                                                            'unique_organoid',\n",
    "                                                            'velocity_std',\n",
    "                                                            'velocity_mean',\n",
    "                                                            'perimeter',\n",
    "                                                            'area',\n",
    "                                                            'circularity'])\n",
    "\n",
    "        single_organoid_statistics.loc[0, 'movie_name'] = unique_organoid_frame.movie_name.unique()[0]\n",
    "        single_organoid_statistics.loc[0, 'particle'] = unique_organoid_frame.particle.unique()[0]\n",
    "        single_organoid_statistics.loc[0, 'unique_organoid'] = single_particle\n",
    "        single_organoid_statistics.loc[0, 'N'] = len(unique_organoid_frame)\n",
    "        single_organoid_statistics.loc[0, 'cumulative_displacement'] = unique_organoid_frame['cumulative_displacement'].max()\n",
    "        single_organoid_statistics.loc[0, 'absolute_displacement_x'] = unique_organoid_frame.loc[unique_organoid_frame.index.max(), 'absolute_displacement_x']\n",
    "        single_organoid_statistics.loc[0, 'velocity_std'] = unique_organoid_frame['velocity'].std()\n",
    "        single_organoid_statistics.loc[0, 'velocity_mean'] = unique_organoid_frame['velocity'].mean()\n",
    "        single_organoid_statistics.loc[0, 'perimeter'] = unique_organoid_frame['perimeter'].mean()\n",
    "        single_organoid_statistics.loc[0, 'area'] = unique_organoid_frame['area'].mean()\n",
    "        single_organoid_statistics.loc[0, 'circularity'] = 4*np.pi*(unique_organoid_frame['area']/unique_organoid_frame['perimeter']**2).mean()\n",
    "\n",
    "        organoid_statistics = pd.concat([organoid_statistics, single_organoid_statistics])\n",
    "\n",
    "    return organoid_statistics"
   ]
  },
  {
   "cell_type": "code",
   "execution_count": 40,
   "metadata": {},
   "outputs": [],
   "source": [
    "for ename in file_data.experience_name.unique():\n",
    "    for cname in file_data.condition_name.unique():\n",
    "        df = file_data[(file_data.experience_name == ename) & (file_data.condition_name == cname)]\n",
    "        df.to_csv(os.path.join(savedir, ename + '_' + cname + '_trajectory_properties.csv'), index=False)\n",
    "\n",
    "        of = get_organoid_statistics(df)\n",
    "        of.to_csv(os.path.join(savedir, ename + '_' + cname + '_average_organoid_properties.csv'), index=False)\n",
    "\n",
    "        absolute_displacement = df.pivot(index = 'frame', columns = 'unique_organoid', values = 'absolute_displacement_x').fillna(method='ffill').dropna(axis=1, how='all').fillna(0)\n",
    "        absolute_displacement.to_csv(os.path.join(savedir, ename + '_' + cname + '_absolute_displacement.csv'), index=False)\n",
    "\n",
    "        cumulative_displacement = df.pivot(index = 'frame', columns = 'unique_organoid', values = 'cumulative_displacement').fillna(method='ffill').dropna(axis=1, how='all').fillna(0)\n",
    "        cumulative_displacement.to_csv(os.path.join(savedir, ename + '_' + cname + '_cumulative_displacement.csv'), index=False)"
   ]
  },
  {
   "cell_type": "code",
   "execution_count": null,
   "metadata": {},
   "outputs": [],
   "source": []
  }
 ],
 "metadata": {
  "kernelspec": {
   "display_name": "Python 3.9.12 ('base')",
   "language": "python",
   "name": "python3"
  },
  "language_info": {
   "codemirror_mode": {
    "name": "ipython",
    "version": 3
   },
   "file_extension": ".py",
   "mimetype": "text/x-python",
   "name": "python",
   "nbconvert_exporter": "python",
   "pygments_lexer": "ipython3",
   "version": "3.10.7"
  },
  "vscode": {
   "interpreter": {
    "hash": "50e59522dfee8fdb25f521bccc88f90f0f2bae0e6d186d2eebb72077c5736364"
   }
  }
 },
 "nbformat": 4,
 "nbformat_minor": 4
}
