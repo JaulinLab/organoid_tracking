{
 "cells": [
  {
   "cell_type": "code",
   "execution_count": 4,
   "metadata": {},
   "outputs": [],
   "source": [
    "import numpy as np\n",
    "import pandas as pd\n",
    "import glob\n",
    "from organoid_tracking import organoid_tracking\n",
    "import os\n",
    "from itertools import repeat\n",
    "from natsort import natsorted"
   ]
  },
  {
   "attachments": {},
   "cell_type": "markdown",
   "metadata": {},
   "source": [
    "## analyzing an image sequence\n",
    "\n",
    "we get the organoid properties sequentially and then link the individual organoids together using trackpy."
   ]
  },
  {
   "cell_type": "code",
   "execution_count": 5,
   "metadata": {},
   "outputs": [],
   "source": [
    "start_dir = '/Users/clemence/Documents_Clémence/Analysis/Tracking algorithm/Tracking-seg_Aaron-Gus_CNV/To run'\n",
    "\n",
    "pattern   = \"*/masks_predicted/*.tif\"\n",
    "fnames = []\n",
    "validation_directories = []\n",
    "\n",
    "for dir,_,_ in os.walk(start_dir):\n",
    "    fnames.extend(glob.glob(os.path.join(dir,pattern)))\n",
    "\n",
    "for fname in fnames:\n",
    "\n",
    "    experiment_directory = '/'.join(fname.split('/')[:-2])\n",
    "\n",
    "    validation_directory = experiment_directory + '/' + 'validation_image'\n",
    "    validation_directories.append(validation_directory)\n",
    "\n",
    "    if not os.path.exists(validation_directory):\n",
    "        os.makedirs(validation_directory)\n",
    "\n",
    "savedir = os.path.join(start_dir, 'organoid_statistics')\n",
    "\n",
    "if not os.path.exists(savedir):\n",
    "    os.makedirs(savedir)"
   ]
  },
  {
   "cell_type": "code",
   "execution_count": 6,
   "metadata": {},
   "outputs": [
    {
     "name": "stdout",
     "output_type": "stream",
     "text": [
      "Frame 48: 1 trajectories present.\n"
     ]
    }
   ],
   "source": [
    "\n",
    "movie_frames = map(organoid_tracking.movie_analysis, natsorted(fnames), validation_directories)\n",
    "\n",
    "file_data = pd.DataFrame()\n",
    "file_data = pd.concat(list(movie_frames), \n",
    "                      ignore_index=True)\n",
    "file_data['unique_organoid'] = file_data['movie_name']+ ':' + file_data['particle'].astype(str) "
   ]
  },
  {
   "attachments": {},
   "cell_type": "markdown",
   "metadata": {},
   "source": []
  },
  {
   "cell_type": "code",
   "execution_count": 13,
   "metadata": {},
   "outputs": [],
   "source": [
    "pxtomu = 0.9075\n",
    "frametohr = 0.5/24\n",
    "\n",
    "file_data['velocity'] *= pxtomu/frametohr\n",
    "file_data['area'] *= pxtomu**2\n",
    "file_data['perimeter'] *= pxtomu\n",
    "file_data['cumulative_displacement'] *= pxtomu\n",
    "file_data['absolute_displacement_x'] *= pxtomu\n",
    "file_data['circularity'] = 4*np.pi*(file_data['area']/file_data['perimeter']**2)"
   ]
  },
  {
   "cell_type": "code",
   "execution_count": 14,
   "metadata": {},
   "outputs": [],
   "source": [
    "def get_organoid_statistics(file_data):\n",
    "\n",
    "    organoid_statistics = pd.DataFrame(columns = ['movie_name', 'particle'])\n",
    "\n",
    "    for single_particle in file_data.unique_organoid.unique():\n",
    "\n",
    "        unique_organoid_frame = file_data[file_data.unique_organoid == single_particle].sort_values('frame')\n",
    "        \n",
    "        assert len(unique_organoid_frame.movie_name.unique()) == 1\n",
    "        assert len(unique_organoid_frame.particle.unique()) == 1\n",
    "\n",
    "        single_organoid_statistics = pd.DataFrame(columns = ['movie_name',\n",
    "                                                            'particle',\n",
    "                                                            'unique_organoid',\n",
    "                                                            'velocity_std',\n",
    "                                                            'velocity_mean',\n",
    "                                                            'perimeter',\n",
    "                                                            'area',\n",
    "                                                            'circularity'])\n",
    "\n",
    "        single_organoid_statistics.loc[0, 'movie_name'] = unique_organoid_frame.movie_name.unique()[0]\n",
    "        single_organoid_statistics.loc[0, 'particle'] = unique_organoid_frame.particle.unique()[0]\n",
    "        single_organoid_statistics.loc[0, 'unique_organoid'] = single_particle\n",
    "        single_organoid_statistics.loc[0, 'N'] = len(unique_organoid_frame)\n",
    "        single_organoid_statistics.loc[0, 'cumulative_displacement'] = unique_organoid_frame['cumulative_displacement'].max()\n",
    "        single_organoid_statistics.loc[0, 'absolute_displacement_x'] = unique_organoid_frame.loc[unique_organoid_frame.index.max(), 'absolute_displacement_x']\n",
    "        single_organoid_statistics.loc[0, 'velocity_std'] = unique_organoid_frame['velocity'].std()\n",
    "        single_organoid_statistics.loc[0, 'velocity_mean'] = unique_organoid_frame['velocity'].mean()\n",
    "        single_organoid_statistics.loc[0, 'perimeter'] = unique_organoid_frame['perimeter'].mean()\n",
    "        single_organoid_statistics.loc[0, 'area'] = unique_organoid_frame['area'].mean()\n",
    "        single_organoid_statistics.loc[0, 'circularity'] = 4*np.pi*(unique_organoid_frame['area']/unique_organoid_frame['perimeter']**2).mean()\n",
    "\n",
    "        organoid_statistics = pd.concat([organoid_statistics, single_organoid_statistics])\n",
    "\n",
    "    return organoid_statistics"
   ]
  },
  {
   "cell_type": "code",
   "execution_count": 15,
   "metadata": {},
   "outputs": [],
   "source": [
    "for ename in file_data.experience_name.unique():\n",
    "    for cname in file_data.condition_name.unique():\n",
    "        df = file_data[(file_data.experience_name == ename) & (file_data.condition_name == cname)]\n",
    "        df.to_csv(os.path.join(savedir, ename + '_' + cname + '_trajectory_properties.csv'), index=False)\n",
    "\n",
    "        of = get_organoid_statistics(df)\n",
    "        of.to_csv(os.path.join(savedir, ename + '_' + cname + '_average_organoid_properties.csv'), index=False)\n",
    "\n",
    "        absolute_displacement = df.pivot(index = 'frame', columns = 'unique_organoid', values = 'absolute_displacement_x').fillna(method='ffill').dropna(axis=1, how='all').fillna(0)\n",
    "        absolute_displacement.to_csv(os.path.join(savedir, ename + '_' + cname + '_absolute_displacement.csv'), index=False)\n",
    "\n",
    "        cumulative_displacement = df.pivot(index = 'frame', columns = 'unique_organoid', values = 'cumulative_displacement').fillna(method='ffill').dropna(axis=1, how='all').fillna(0)\n",
    "        cumulative_displacement.to_csv(os.path.join(savedir, ename + '_' + cname + '_cumulative_displacement.csv'), index=False)"
   ]
  },
  {
   "cell_type": "code",
   "execution_count": null,
   "metadata": {},
   "outputs": [],
   "source": []
  }
 ],
 "metadata": {
  "kernelspec": {
   "display_name": "Python 3.9.12 ('base')",
   "language": "python",
   "name": "python3"
  },
  "language_info": {
   "codemirror_mode": {
    "name": "ipython",
    "version": 3
   },
   "file_extension": ".py",
   "mimetype": "text/x-python",
   "name": "python",
   "nbconvert_exporter": "python",
   "pygments_lexer": "ipython3",
   "version": "3.11.3"
  },
  "vscode": {
   "interpreter": {
    "hash": "50e59522dfee8fdb25f521bccc88f90f0f2bae0e6d186d2eebb72077c5736364"
   }
  }
 },
 "nbformat": 4,
 "nbformat_minor": 4
}
